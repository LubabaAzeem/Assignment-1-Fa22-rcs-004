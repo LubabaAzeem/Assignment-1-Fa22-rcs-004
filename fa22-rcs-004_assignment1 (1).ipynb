{
 "cells": [
  {
   "cell_type": "code",
   "execution_count": 8,
   "id": "7bc30bc9-9d7d-49fd-977f-21ebc7b454e3",
   "metadata": {},
   "outputs": [
    {
     "name": "stdout",
     "output_type": "stream",
     "text": [
      "[27, 125, 343, 512, 1728]\n"
     ]
    }
   ],
   "source": [
    "# task 1 \"Lists , Dictionaries and tupples\"\n",
    "nums = [3, 5, 7, 8, 12]\n",
    "\n",
    "# Create an empty list to store cubes\n",
    "cubes = []\n",
    "\n",
    "# Compute the cube of each number in nums and append it to cubes\n",
    "for num in nums:\n",
    "    cubes.append(num ** 3)\n",
    "\n",
    "print(cubes)"
   ]
  },
  {
   "cell_type": "code",
   "execution_count": 10,
   "id": "707ed95b-1d61-43ca-b399-9b4ade8bfff3",
   "metadata": {},
   "outputs": [
    {
     "name": "stdout",
     "output_type": "stream",
     "text": [
      "{'parrot': 4, 'spider': 8, 'crab': 10}\n"
     ]
    }
   ],
   "source": [
    "# Tast 1.2\n",
    "my_dict = {}\n",
    "\n",
    "my_dict['parrot'] = 4\n",
    "my_dict['spider'] = 8\n",
    "my_dict['crab'] = 10\n",
    "\n",
    "print(my_dict)"
   ]
  },
  {
   "cell_type": "code",
   "execution_count": 17,
   "id": "f0761f1f-621b-43e6-8d96-69ceb9663f93",
   "metadata": {},
   "outputs": [
    {
     "name": "stdout",
     "output_type": "stream",
     "text": [
      "parrot has 2 legs.\n",
      "spider has 8 legs.\n",
      "crab has 10 legs.\n",
      "Total number of legs: 20\n"
     ]
    }
   ],
   "source": [
    "#  Task 1.3\n",
    "my_dict = {\n",
    "    'parrot': 2,\n",
    "    'spider': 8,\n",
    "    'crab': 10\n",
    "}\n",
    "\n",
    "# variable to sum the total number of legs\n",
    "total_legs = 0\n",
    "\n",
    "for animal, legs in my_dict.items():\n",
    "    \n",
    "    print(f\"{animal} has {legs} legs.\")\n",
    "    \n",
    "    total_legs += legs\n",
    "\n",
    "print(f\"Total number of legs: {total_legs}\")"
   ]
  },
  {
   "cell_type": "code",
   "execution_count": 19,
   "id": "4112354c-32b6-4e9c-8e82-cdc465abbd95",
   "metadata": {},
   "outputs": [
    {
     "name": "stdout",
     "output_type": "stream",
     "text": [
      "(3, 9, 4, [8, 6])\n"
     ]
    }
   ],
   "source": [
    "# Task 1.4\n",
    "A = (3, 9, 4, [5, 6])\n",
    "\n",
    "A[3][0] = 8\n",
    "\n",
    "print(A)"
   ]
  },
  {
   "cell_type": "code",
   "execution_count": 39,
   "id": "8b854d47-fb3b-492c-81a4-e9e033b1221c",
   "metadata": {},
   "outputs": [
    {
     "ename": "NameError",
     "evalue": "name 'A' is not defined",
     "output_type": "error",
     "traceback": [
      "\u001b[1;31m---------------------------------------------------------------------------\u001b[0m",
      "\u001b[1;31mNameError\u001b[0m                                 Traceback (most recent call last)",
      "Cell \u001b[1;32mIn[39], line 5\u001b[0m\n\u001b[0;32m      1\u001b[0m \u001b[38;5;66;03m# Task 1.5\u001b[39;00m\n\u001b[0;32m      3\u001b[0m \u001b[38;5;28;01mdel\u001b[39;00m A\n\u001b[1;32m----> 5\u001b[0m \u001b[38;5;28mprint\u001b[39m(A)\n",
      "\u001b[1;31mNameError\u001b[0m: name 'A' is not defined"
     ]
    }
   ],
   "source": [
    "# Task 1.5\n",
    "\n",
    "del A\n",
    "\n",
    "print(A)"
   ]
  },
  {
   "cell_type": "code",
   "execution_count": 41,
   "id": "00ec6793-a7a9-4d22-87c7-459593c422d5",
   "metadata": {},
   "outputs": [
    {
     "name": "stdout",
     "output_type": "stream",
     "text": [
      "The number of occurrences of 'p' in the tuple is: 2\n"
     ]
    }
   ],
   "source": [
    "# Task 1.6\n",
    "B = ('a', 'p', 'p', 'l', 'e')\n",
    "\n",
    "count_p = B.count('p')\n",
    "\n",
    "print(f\"The number of occurrences of 'p' in the tuple is: {count_p}\")"
   ]
  },
  {
   "cell_type": "code",
   "execution_count": 37,
   "id": "b083955e-b788-4e35-8f58-6a19121284ba",
   "metadata": {},
   "outputs": [
    {
     "ename": "AttributeError",
     "evalue": "'numpy.ndarray' object has no attribute 'index'",
     "output_type": "error",
     "traceback": [
      "\u001b[1;31m---------------------------------------------------------------------------\u001b[0m",
      "\u001b[1;31mAttributeError\u001b[0m                            Traceback (most recent call last)",
      "Cell \u001b[1;32mIn[37], line 3\u001b[0m\n\u001b[0;32m      1\u001b[0m \u001b[38;5;66;03m# Task 1.7\u001b[39;00m\n\u001b[1;32m----> 3\u001b[0m index_l \u001b[38;5;241m=\u001b[39m B\u001b[38;5;241m.\u001b[39mindex(\u001b[38;5;124m'\u001b[39m\u001b[38;5;124ml\u001b[39m\u001b[38;5;124m'\u001b[39m)\n\u001b[0;32m      5\u001b[0m \u001b[38;5;28mprint\u001b[39m(\u001b[38;5;124mf\u001b[39m\u001b[38;5;124m\"\u001b[39m\u001b[38;5;124mThe index of \u001b[39m\u001b[38;5;124m'\u001b[39m\u001b[38;5;124ml\u001b[39m\u001b[38;5;124m'\u001b[39m\u001b[38;5;124m in the tuple is: \u001b[39m\u001b[38;5;132;01m{\u001b[39;00mindex_l\u001b[38;5;132;01m}\u001b[39;00m\u001b[38;5;124m\"\u001b[39m)\n",
      "\u001b[1;31mAttributeError\u001b[0m: 'numpy.ndarray' object has no attribute 'index'"
     ]
    }
   ],
   "source": [
    "# Task 1.7\n",
    "\n",
    "index_l = B.index('l')\n",
    "\n",
    "print(f\"The index of 'l' in the tuple is: {index_l}\")"
   ]
  },
  {
   "cell_type": "code",
   "execution_count": 27,
   "id": "d8b930ff-87db-47cf-857b-ddeeaa39b290",
   "metadata": {},
   "outputs": [
    {
     "name": "stdout",
     "output_type": "stream",
     "text": [
      "Matrix A as a NumPy array:\n",
      "[[ 1  2  3  4]\n",
      " [ 5  6  7  8]\n",
      " [ 9 10 11 12]]\n"
     ]
    }
   ],
   "source": [
    "# Task 2 \"Numpy\"\n",
    "\n",
    "#task 2.1\n",
    "\n",
    "import numpy as np\n",
    "\n",
    "A = np.array([\n",
    "    [1, 2, 3, 4],\n",
    "    [5, 6, 7, 8],\n",
    "    [9, 10, 11, 12]\n",
    "])\n",
    "\n",
    "print(\"Matrix A as a NumPy array:\")\n",
    "print(A)"
   ]
  },
  {
   "cell_type": "code",
   "execution_count": 35,
   "id": "62c7de7d-29fd-448b-aca7-d5062a15d134",
   "metadata": {},
   "outputs": [
    {
     "name": "stdout",
     "output_type": "stream",
     "text": [
      "Subarray B:\n",
      "[[2 3]\n",
      " [6 7]]\n"
     ]
    }
   ],
   "source": [
    "# Task 2.2\n",
    " \n",
    "B = A[:2, 1:3]\n",
    "\n",
    "print(\"Subarray B:\")\n",
    "print(B)"
   ]
  },
  {
   "cell_type": "code",
   "execution_count": 31,
   "id": "1fbcc6c3-f1c4-4d8b-a6a6-cfe099556041",
   "metadata": {},
   "outputs": [
    {
     "name": "stdout",
     "output_type": "stream",
     "text": [
      "Matrix C (filled with ones):\n",
      "[[1 1 1 1]\n",
      " [1 1 1 1]\n",
      " [1 1 1 1]]\n"
     ]
    }
   ],
   "source": [
    "# Task 2.3\n",
    "C = np.ones_like(A)\n",
    "\n",
    "# Print the resulting matrix C\n",
    "print(\"Matrix C (filled with ones):\")\n",
    "print(C)"
   ]
  },
  {
   "cell_type": "code",
   "execution_count": 47,
   "id": "199d3fcf-fe0f-4fa2-94fa-15d785359381",
   "metadata": {},
   "outputs": [
    {
     "name": "stdout",
     "output_type": "stream",
     "text": [
      "Matrix C after adding vector z to each column of A:\n",
      "[[ 2  3  4  5]\n",
      " [ 5  6  7  8]\n",
      " [10 11 12 13]]\n",
      "Matrix X:\n",
      "[[1 2]\n",
      " [3 4]]\n",
      "Matrix Y:\n",
      "[[5 6]\n",
      " [7 8]]\n",
      "Vector v:\n",
      "[ 9 10]\n"
     ]
    }
   ],
   "source": [
    "# Task 2.4\n",
    "import numpy as np\n",
    "\n",
    "A = np.array([\n",
    "    [1, 2, 3, 4],\n",
    "    [5, 6, 7, 8],\n",
    "    [9, 10, 11, 12]\n",
    "])\n",
    "z = np.array([1, 0, 1])\n",
    "C = np.zeros_like(A)\n",
    "for col in range(A.shape[1]):\n",
    "    C[:, col] = A[:, col] + z\n",
    "print(\"Matrix C after adding vector z to each column of A:\")\n",
    "print(C)\n",
    "\n",
    "X = np.array([[1, 2], [3, 4]])\n",
    "Y = np.array([[5, 6], [7, 8]])\n",
    "v = np.array([9, 10])\n",
    "\n",
    "print(\"Matrix X:\")\n",
    "print(X)\n",
    "\n",
    "print(\"Matrix Y:\")\n",
    "print(Y)\n",
    "\n",
    "print(\"Vector v:\")\n",
    "print(v)"
   ]
  },
  {
   "cell_type": "code",
   "execution_count": 51,
   "id": "78cfbeb7-73d8-4290-a5d8-08b6a1016098",
   "metadata": {},
   "outputs": [
    {
     "name": "stdout",
     "output_type": "stream",
     "text": [
      "Matrix X:\n",
      "[[1 2]\n",
      " [3 4]]\n",
      "Matrix Y:\n",
      "[[5 6]\n",
      " [7 8]]\n",
      "Sum of Matrix X and Matrix Y:\n",
      "[[ 6  8]\n",
      " [10 12]]\n"
     ]
    }
   ],
   "source": [
    "# Task 2.5\n",
    "\n",
    "result = X + Y\n",
    "\n",
    "print(\"Matrix X:\")\n",
    "print(X)\n",
    "\n",
    "print(\"Matrix Y:\")\n",
    "print(Y)\n",
    "\n",
    "print(\"Sum of Matrix X and Matrix Y:\")\n",
    "print(result)"
   ]
  },
  {
   "cell_type": "code",
   "execution_count": 53,
   "id": "2cdf7308-0111-4bad-a5eb-c4fbd9b6e333",
   "metadata": {},
   "outputs": [
    {
     "name": "stdout",
     "output_type": "stream",
     "text": [
      "Matrix X:\n",
      "[[1 2]\n",
      " [3 4]]\n",
      "Matrix Y:\n",
      "[[5 6]\n",
      " [7 8]]\n",
      "Product of Matrix X and Matrix Y:\n",
      "[[19 22]\n",
      " [43 50]]\n"
     ]
    }
   ],
   "source": [
    "# Task 2.6\n",
    "\n",
    "result = np.dot(X, Y) \n",
    "\n",
    "print(\"Matrix X:\")\n",
    "print(X)\n",
    "\n",
    "print(\"Matrix Y:\")\n",
    "print(Y)\n",
    "\n",
    "print(\"Product of Matrix X and Matrix Y:\")\n",
    "print(result)"
   ]
  },
  {
   "cell_type": "code",
   "execution_count": 55,
   "id": "88a36f42-ed11-430b-adf3-e11d3e1f3c5a",
   "metadata": {},
   "outputs": [
    {
     "name": "stdout",
     "output_type": "stream",
     "text": [
      "Matrix Y:\n",
      "[[5 6]\n",
      " [7 8]]\n",
      "Element-wise square root of Matrix Y:\n",
      "[[2.23606798 2.44948974]\n",
      " [2.64575131 2.82842712]]\n"
     ]
    }
   ],
   "source": [
    "# Task 2.7\n",
    "\n",
    "sqrt_Y = np.sqrt(Y)\n",
    "\n",
    "print(\"Matrix Y:\")\n",
    "print(Y)\n",
    "\n",
    "print(\"Element-wise square root of Matrix Y:\")\n",
    "print(sqrt_Y)"
   ]
  },
  {
   "cell_type": "code",
   "execution_count": 57,
   "id": "dfe9afe5-a60f-4511-af71-733d11881a30",
   "metadata": {},
   "outputs": [
    {
     "name": "stdout",
     "output_type": "stream",
     "text": [
      "Matrix X:\n",
      "[[1 2]\n",
      " [3 4]]\n",
      "Vector v:\n",
      "[ 9 10]\n",
      "Dot product of Matrix X and Vector v:\n",
      "[29 67]\n"
     ]
    }
   ],
   "source": [
    "# Task 2.8\n",
    "import numpy as np\n",
    "\n",
    "dot_product = np.dot(X, v) \n",
    "\n",
    "print(\"Matrix X:\")\n",
    "print(X)\n",
    "\n",
    "print(\"Vector v:\")\n",
    "print(v)\n",
    "\n",
    "print(\"Dot product of Matrix X and Vector v:\")\n",
    "print(dot_product)"
   ]
  },
  {
   "cell_type": "code",
   "execution_count": 59,
   "id": "70057570-d90e-45c6-af57-b7da3673e1c7",
   "metadata": {},
   "outputs": [
    {
     "name": "stdout",
     "output_type": "stream",
     "text": [
      "Matrix X:\n",
      "[[1 2]\n",
      " [3 4]]\n",
      "Sum of each column of Matrix X:\n",
      "[4 6]\n"
     ]
    }
   ],
   "source": [
    "# Task 2.9\n",
    "column_sums = np.sum(X, axis=0)\n",
    "\n",
    "print(\"Matrix X:\")\n",
    "print(X)\n",
    "\n",
    "print(\"Sum of each column of Matrix X:\")\n",
    "print(column_sums)"
   ]
  },
  {
   "cell_type": "code",
   "execution_count": 65,
   "id": "2ac424b8-ee50-4954-a52c-b756fb679b0a",
   "metadata": {},
   "outputs": [
    {
     "name": "stdout",
     "output_type": "stream",
     "text": [
      "Velocity: 5.0 meters per second\n"
     ]
    }
   ],
   "source": [
    "# Task 3 \"Functions and loop\"\n",
    "\n",
    "# Task 3.1\n",
    "def Compute(distance, time):\n",
    "    \n",
    "    if time == 0:\n",
    "        raise ValueError(\"Time cannot be zero.\")\n",
    "    \n",
    "    velocity = distance / time\n",
    "    \n",
    "    return velocity\n",
    "\n",
    "distance = 100  \n",
    "time = 20        \n",
    "\n",
    "velocity = Compute(distance, time)\n",
    "\n",
    "print(\"Velocity:\", velocity, \"meters per second\")"
   ]
  },
  {
   "cell_type": "code",
   "execution_count": 67,
   "id": "b8b0ccbb-bc86-4233-88b3-f9e380984a08",
   "metadata": {},
   "outputs": [
    {
     "name": "stdout",
     "output_type": "stream",
     "text": [
      "The product of all even numbers up to 12 is: 46080\n"
     ]
    }
   ],
   "source": [
    "# Task 3.2\n",
    "\n",
    "even_num = [2, 4, 6, 8, 10, 12]\n",
    "\n",
    "def mult(numbers):\n",
    "    product = 1\n",
    "    \n",
    "    for number in numbers:\n",
    "        product *= number\n",
    "    \n",
    "    return product\n",
    "\n",
    "product_of_evens = mult(even_num)\n",
    "\n",
    "print(\"The product of all even numbers up to 12 is:\", product_of_evens)"
   ]
  },
  {
   "cell_type": "code",
   "execution_count": 69,
   "id": "13877416-0fb3-4eec-87a2-539a58f70062",
   "metadata": {},
   "outputs": [
    {
     "name": "stdout",
     "output_type": "stream",
     "text": [
      "First two rows of the DataFrame:\n",
      "   C1  C2  C3  C4\n",
      "0   1   6   7   7\n",
      "1   2   7   9   5\n"
     ]
    }
   ],
   "source": [
    "# Task 4 \"Pandas\"\n",
    "\n",
    "# Task 4.1\n",
    "import pandas as pd\n",
    "\n",
    "data = {\n",
    "    'C1': [1, 2, 3, 5, 5],\n",
    "    'C2': [6, 7, 5, 4, 8],\n",
    "    'C3': [7, 9, 8, 6, 5],\n",
    "    'C4': [7, 5, 2, 8, 8]\n",
    "}\n",
    "\n",
    "df = pd.DataFrame(data)\n",
    "\n",
    "print(\"First two rows of the DataFrame:\")\n",
    "print(df.head(2))\n"
   ]
  },
  {
   "cell_type": "code",
   "execution_count": 71,
   "id": "da240288-0043-4c18-99f8-bbaf14e76e60",
   "metadata": {},
   "outputs": [
    {
     "name": "stdout",
     "output_type": "stream",
     "text": [
      "Second column of the DataFrame:\n",
      "0    6\n",
      "1    7\n",
      "2    5\n",
      "3    4\n",
      "4    8\n",
      "Name: C2, dtype: int64\n"
     ]
    }
   ],
   "source": [
    "# Task 4.2 \n",
    "\n",
    "print(\"Second column of the DataFrame:\")\n",
    "print(df['C2'])"
   ]
  },
  {
   "cell_type": "code",
   "execution_count": 73,
   "id": "4f06d581-b448-4207-84f1-c92810599538",
   "metadata": {},
   "outputs": [
    {
     "name": "stdout",
     "output_type": "stream",
     "text": [
      "DataFrame with updated column name:\n",
      "   C1  C2  B3  C4\n",
      "0   1   6   7   7\n",
      "1   2   7   9   5\n",
      "2   3   5   8   2\n",
      "3   5   4   6   8\n",
      "4   5   8   5   8\n"
     ]
    }
   ],
   "source": [
    "# Task 4.3\n",
    "\n",
    "df.rename(columns={'C3': 'B3'}, inplace=True)\n",
    "\n",
    "print(\"DataFrame with updated column name:\")\n",
    "print(df)"
   ]
  },
  {
   "cell_type": "code",
   "execution_count": 75,
   "id": "cf5f390d-f52d-4ffc-be86-8e7ab09d949a",
   "metadata": {},
   "outputs": [
    {
     "name": "stdout",
     "output_type": "stream",
     "text": [
      "DataFrame with the 'Sum' column:\n",
      "   C1  C2  B3  C4  Sum\n",
      "0   1   6   7   7   21\n",
      "1   2   7   9   5   23\n",
      "2   3   5   8   2   18\n",
      "3   5   4   6   8   23\n",
      "4   5   8   5   8   26\n"
     ]
    }
   ],
   "source": [
    "# Task 4.4\n",
    "\n",
    "df['Sum'] = df.sum(axis=1)\n",
    "\n",
    "print(\"DataFrame with the 'Sum' column:\")\n",
    "print(df)"
   ]
  },
  {
   "cell_type": "code",
   "execution_count": 77,
   "id": "bf37b7bb-2ac8-46f5-b3ac-39ad41e9c008",
   "metadata": {},
   "outputs": [
    {
     "name": "stdout",
     "output_type": "stream",
     "text": [
      "DataFrame with the 'Sum' column:\n",
      "   C1  C2  B3  C4  Sum\n",
      "0   1   6   7   7   42\n",
      "1   2   7   9   5   46\n",
      "2   3   5   8   2   36\n",
      "3   5   4   6   8   46\n",
      "4   5   8   5   8   52\n"
     ]
    }
   ],
   "source": [
    "# Task 4.5\n",
    "\n",
    "df['Sum'] = df.sum(axis=1)\n",
    "\n",
    "# Print the DataFrame with the new 'Sum' column\n",
    "print(\"DataFrame with the 'Sum' column:\")\n",
    "print(df)"
   ]
  },
  {
   "cell_type": "code",
   "execution_count": 93,
   "id": "747c446c-05a4-4f2e-99e4-c3df7f9999ad",
   "metadata": {},
   "outputs": [
    {
     "name": "stdout",
     "output_type": "stream",
     "text": [
      "Complete DataFrame:\n",
      "   C1  C2  B3  C4  Sum\n",
      "0   1   6   7   7   42\n",
      "1   2   7   9   5   46\n",
      "2   3   5   8   2   36\n",
      "3   5   4   6   8   46\n",
      "4   5   8   5   8   52\n"
     ]
    }
   ],
   "source": [
    "# Task 4.7\n",
    "pd.set_option('display.max_rows', None)  \n",
    "pd.set_option('display.max_columns', None)  \n",
    "pd.set_option('display.expand_frame_repr', False)  \n",
    "\n",
    "print(\"Complete DataFrame:\")\n",
    "print(df)\n",
    "\n",
    "pd.reset_option('display.max_rows')\n",
    "pd.reset_option('display.max_columns')\n",
    "pd.reset_option('display.expand_frame_repr')\n"
   ]
  },
  {
   "cell_type": "code",
   "execution_count": 91,
   "id": "2a87d116-bb63-4500-908a-c21a5f3a8032",
   "metadata": {},
   "outputs": [
    {
     "name": "stdout",
     "output_type": "stream",
     "text": [
      "Bottom 2 records of the DataFrame:\n",
      "   C1  C2  B3  C4  Sum\n",
      "3   5   4   6   8   46\n",
      "4   5   8   5   8   52\n"
     ]
    }
   ],
   "source": [
    "# Task 4.8\n",
    "print(\"Bottom 2 records of the DataFrame:\")\n",
    "print(df.tail(2))"
   ]
  },
  {
   "cell_type": "code",
   "execution_count": 95,
   "id": "c7718d9c-b15c-4e5c-9b02-93cbbaeddfe9",
   "metadata": {},
   "outputs": [
    {
     "name": "stdout",
     "output_type": "stream",
     "text": [
      "DataFrame Information:\n",
      "<class 'pandas.core.frame.DataFrame'>\n",
      "RangeIndex: 5 entries, 0 to 4\n",
      "Data columns (total 5 columns):\n",
      " #   Column  Non-Null Count  Dtype\n",
      "---  ------  --------------  -----\n",
      " 0   C1      5 non-null      int64\n",
      " 1   C2      5 non-null      int64\n",
      " 2   B3      5 non-null      int64\n",
      " 3   C4      5 non-null      int64\n",
      " 4   Sum     5 non-null      int64\n",
      "dtypes: int64(5)\n",
      "memory usage: 332.0 bytes\n",
      "None\n",
      "\n",
      "Descriptive Statistics:\n",
      "             C1        C2        B3       C4        Sum\n",
      "count  5.000000  5.000000  5.000000  5.00000   5.000000\n",
      "mean   3.200000  6.000000  7.000000  6.00000  44.400000\n",
      "std    1.788854  1.581139  1.581139  2.54951   5.899152\n",
      "min    1.000000  4.000000  5.000000  2.00000  36.000000\n",
      "25%    2.000000  5.000000  6.000000  5.00000  42.000000\n",
      "50%    3.000000  6.000000  7.000000  7.00000  46.000000\n",
      "75%    5.000000  7.000000  8.000000  8.00000  46.000000\n",
      "max    5.000000  8.000000  9.000000  8.00000  52.000000\n",
      "\n",
      "DataFrame Shape:\n",
      "(5, 5)\n",
      "\n",
      "DataFrame Columns:\n",
      "Index(['C1', 'C2', 'B3', 'C4', 'Sum'], dtype='object')\n",
      "\n",
      "Data Types of Columns:\n",
      "C1     int64\n",
      "C2     int64\n",
      "B3     int64\n",
      "C4     int64\n",
      "Sum    int64\n",
      "dtype: object\n"
     ]
    }
   ],
   "source": [
    "# Task 4.9\n",
    "\n",
    "print(\"DataFrame Information:\")\n",
    "print(df.info()) \n",
    "\n",
    "print(\"\\nDescriptive Statistics:\")\n",
    "print(df.describe()) \n",
    "print(\"\\nDataFrame Shape:\")\n",
    "print(df.shape)  \n",
    "\n",
    "print(\"\\nDataFrame Columns:\")\n",
    "print(df.columns)  \n",
    "\n",
    "print(\"\\nData Types of Columns:\")\n",
    "print(df.dtypes)  \n"
   ]
  },
  {
   "cell_type": "code",
   "execution_count": 97,
   "id": "ea825202-cfad-49ae-9823-eaea7fb01917",
   "metadata": {},
   "outputs": [
    {
     "name": "stdout",
     "output_type": "stream",
     "text": [
      "Shape of the DataFrame: 5 x 5\n"
     ]
    }
   ],
   "source": [
    "# Task 4.10\n",
    "import pandas as pd\n",
    "\n",
    "rows, columns = df.shape\n",
    "\n",
    "print(f\"Shape of the DataFrame: {rows} x {columns}\")"
   ]
  },
  {
   "cell_type": "code",
   "execution_count": 99,
   "id": "f6309d6e-fa6c-48ce-9c7d-bf5c0ad27a06",
   "metadata": {},
   "outputs": [
    {
     "name": "stdout",
     "output_type": "stream",
     "text": [
      "DataFrame sorted by 'Weight':\n",
      "        Name  Weight\n",
      "0        Ali      55\n",
      "4      Ehsan      60\n",
      "2  Chaudhary      68\n",
      "1      Babar      72\n",
      "3     Dawood      75\n"
     ]
    }
   ],
   "source": [
    "# Task 4.11\n",
    "\n",
    "data = {\n",
    "    'Name': ['Ali', 'Babar', 'Chaudhary', 'Dawood', 'Ehsan'],\n",
    "    'Weight': [55, 72, 68, 75, 60]\n",
    "}\n",
    "\n",
    "df = pd.DataFrame(data)\n",
    "\n",
    "sorted_df = df.sort_values(by='Weight', ascending=True)\n",
    "\n",
    "print(\"DataFrame sorted by 'Weight':\")\n",
    "print(sorted_df)"
   ]
  },
  {
   "cell_type": "code",
   "execution_count": 105,
   "id": "fcb70c1d-b4fc-4b7d-9d69-a129c943879c",
   "metadata": {},
   "outputs": [
    {
     "name": "stdout",
     "output_type": "stream",
     "text": [
      "Original DataFrame:\n",
      "    Name  Weight  Height\n",
      "0  Ahmed    55.0   165.0\n",
      "1  Baber    72.0   180.0\n",
      "2  hamad     NaN   175.0\n",
      "3    NaN    75.0   170.0\n",
      "4  Ehsan    60.0     NaN\n",
      "\n",
      "DataFrame with missing values indicated (isnull()):\n",
      "    Name  Weight  Height\n",
      "0  False   False   False\n",
      "1  False   False   False\n",
      "2  False    True   False\n",
      "3   True   False   False\n",
      "4  False   False    True\n",
      "\n",
      "DataFrame after dropping rows with missing values (dropna()):\n",
      "    Name  Weight  Height\n",
      "0  Ahmed    55.0   165.0\n",
      "1  Baber    72.0   180.0\n"
     ]
    }
   ],
   "source": [
    "# Task 4.12\n",
    "\n",
    "data = {\n",
    "    'Name': ['Ahmed', 'Baber', 'hamad', np.nan, 'Ehsan'],\n",
    "    'Weight': [55, 72, np.nan, 75, 60],\n",
    "    'Height': [165, 180, 175, 170, np.nan]\n",
    "}\n",
    "\n",
    "df = pd.DataFrame(data)\n",
    "\n",
    "print(\"Original DataFrame:\")\n",
    "print(df)\n",
    "\n",
    "print(\"\\nDataFrame with missing values indicated (isnull()):\")\n",
    "print(df.isnull())\n",
    "\n",
    "df_dropped = df.dropna()\n",
    "\n",
    "print(\"\\nDataFrame after dropping rows with missing values (dropna()):\")\n",
    "print(df_dropped)"
   ]
  },
  {
   "cell_type": "code",
   "execution_count": null,
   "id": "728ee82b-e129-4965-ba11-d8c5fb26de39",
   "metadata": {},
   "outputs": [],
   "source": []
  }
 ],
 "metadata": {
  "kernelspec": {
   "display_name": "Python 3 (ipykernel)",
   "language": "python",
   "name": "python3"
  },
  "language_info": {
   "codemirror_mode": {
    "name": "ipython",
    "version": 3
   },
   "file_extension": ".py",
   "mimetype": "text/x-python",
   "name": "python",
   "nbconvert_exporter": "python",
   "pygments_lexer": "ipython3",
   "version": "3.12.4"
  }
 },
 "nbformat": 4,
 "nbformat_minor": 5
}
